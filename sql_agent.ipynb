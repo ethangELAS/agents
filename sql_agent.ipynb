AI-powered SQL Agent With LangChain for SQL Databases
Learn new tech by building a simple AI-powered SQL agent for your favorite SQL database.

This agent utilizes LangChain to create a flow that takes user questions in plain English, then uses an LLM (Large Language Model) to generate a SQL request. It executes the request on your database and then uses the LLM again to respond as a human would, or to convert the response into a JSON object for your downstream APIs.
